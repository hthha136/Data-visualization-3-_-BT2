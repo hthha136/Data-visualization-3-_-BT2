{
  "nbformat": 4,
  "nbformat_minor": 0,
  "metadata": {
    "colab": {
      "provenance": []
    },
    "kernelspec": {
      "name": "python3",
      "display_name": "Python 3"
    },
    "language_info": {
      "name": "python"
    }
  },
  "cells": [
    {
      "cell_type": "code",
      "execution_count": null,
      "metadata": {
        "id": "UBKD3MMwQ77p"
      },
      "outputs": [],
      "source": [
        "import numpy as np\n",
        "import pandas as pd\n",
        "import matplotlib.pyplot as plt\n",
        "import seaborn as sns\n",
        "import statsmodels.api as sm"
      ]
    },
    {
      "cell_type": "code",
      "source": [
        "%cd '/content/drive/MyDrive/ML-DL/CodeGym'\n",
        "!ls"
      ],
      "metadata": {
        "colab": {
          "base_uri": "https://localhost:8080/"
        },
        "id": "vcIEfoqbTDjk",
        "outputId": "25bd0ff6-538c-4558-a8c7-1d57dc868418"
      },
      "execution_count": null,
      "outputs": [
        {
          "output_type": "stream",
          "name": "stdout",
          "text": [
            "/content/drive/MyDrive/ML-DL/CodeGym\n",
            "GDPlist.csv\t\t\t\t  Untitled11.ipynb  Untitled6.ipynb\n",
            "house_price_Dống-Da_Hà-Nội_subdata.csv\t  Untitled1.ipynb   Untitled7.ipynb\n",
            "OnlineRetail.csv\t\t\t  Untitled2.ipynb   Untitled8.ipynb\n",
            "shopeep_koreantop_clothing_shop_data.csv  Untitled3.ipynb   Untitled9.ipynb\n",
            "Untitled0.ipynb\t\t\t\t  Untitled4.ipynb\n",
            "Untitled10.ipynb\t\t\t  Untitled5.ipynb\n"
          ]
        }
      ]
    },
    {
      "cell_type": "code",
      "source": [
        "df = pd.read_csv('shopeep_koreantop_clothing_shop_data.csv', encoding=\"latin1\")\n",
        "df.head(3)"
      ],
      "metadata": {
        "colab": {
          "base_uri": "https://localhost:8080/",
          "height": 277
        },
        "id": "XBeUw6XyTHvB",
        "outputId": "3e96101e-fe9f-45a6-f920-c1b315548c66"
      },
      "execution_count": null,
      "outputs": [
        {
          "output_type": "execute_result",
          "data": {
            "text/plain": [
              "             pk_shop date_collected     shopid             name join_month  \\\n",
              "0  20210613254711738     2021-06-13  254711738     hello.may.ph      April   \n",
              "1  20210613314198143     2021-06-13  314198143  love.women.shop  September   \n",
              "2   2021061310377223     2021-06-13   10377223    R&O RedOrange  September   \n",
              "\n",
              "   join_day  join_year  item_count  follower_count response_time  \\\n",
              "0        27       2020         446           17487      10:13:55   \n",
              "1        25       2020         263            8574      10:43:05   \n",
              "2        27       2016         209          660417      08:32:07   \n",
              "\n",
              "   response_rate             shop_location  rating_bad  rating_good  \\\n",
              "0             96                       NaN         181        17510   \n",
              "1             73  San Nicolas,Metro Manila          78         2656   \n",
              "2             90   Pasay City,Metro Manila        4647      1071829   \n",
              "\n",
              "   rating_normal  rating_star  is_shopee_verified  is_official_shop  \n",
              "0            729         4.81                   1                 0  \n",
              "1            198         4.68                   0                 0  \n",
              "2          18073         4.91                   1                 0  "
            ],
            "text/html": [
              "\n",
              "  <div id=\"df-c26b33f4-2751-47f2-bd22-69cb2dd1adf9\">\n",
              "    <div class=\"colab-df-container\">\n",
              "      <div>\n",
              "<style scoped>\n",
              "    .dataframe tbody tr th:only-of-type {\n",
              "        vertical-align: middle;\n",
              "    }\n",
              "\n",
              "    .dataframe tbody tr th {\n",
              "        vertical-align: top;\n",
              "    }\n",
              "\n",
              "    .dataframe thead th {\n",
              "        text-align: right;\n",
              "    }\n",
              "</style>\n",
              "<table border=\"1\" class=\"dataframe\">\n",
              "  <thead>\n",
              "    <tr style=\"text-align: right;\">\n",
              "      <th></th>\n",
              "      <th>pk_shop</th>\n",
              "      <th>date_collected</th>\n",
              "      <th>shopid</th>\n",
              "      <th>name</th>\n",
              "      <th>join_month</th>\n",
              "      <th>join_day</th>\n",
              "      <th>join_year</th>\n",
              "      <th>item_count</th>\n",
              "      <th>follower_count</th>\n",
              "      <th>response_time</th>\n",
              "      <th>response_rate</th>\n",
              "      <th>shop_location</th>\n",
              "      <th>rating_bad</th>\n",
              "      <th>rating_good</th>\n",
              "      <th>rating_normal</th>\n",
              "      <th>rating_star</th>\n",
              "      <th>is_shopee_verified</th>\n",
              "      <th>is_official_shop</th>\n",
              "    </tr>\n",
              "  </thead>\n",
              "  <tbody>\n",
              "    <tr>\n",
              "      <th>0</th>\n",
              "      <td>20210613254711738</td>\n",
              "      <td>2021-06-13</td>\n",
              "      <td>254711738</td>\n",
              "      <td>hello.may.ph</td>\n",
              "      <td>April</td>\n",
              "      <td>27</td>\n",
              "      <td>2020</td>\n",
              "      <td>446</td>\n",
              "      <td>17487</td>\n",
              "      <td>10:13:55</td>\n",
              "      <td>96</td>\n",
              "      <td>NaN</td>\n",
              "      <td>181</td>\n",
              "      <td>17510</td>\n",
              "      <td>729</td>\n",
              "      <td>4.81</td>\n",
              "      <td>1</td>\n",
              "      <td>0</td>\n",
              "    </tr>\n",
              "    <tr>\n",
              "      <th>1</th>\n",
              "      <td>20210613314198143</td>\n",
              "      <td>2021-06-13</td>\n",
              "      <td>314198143</td>\n",
              "      <td>love.women.shop</td>\n",
              "      <td>September</td>\n",
              "      <td>25</td>\n",
              "      <td>2020</td>\n",
              "      <td>263</td>\n",
              "      <td>8574</td>\n",
              "      <td>10:43:05</td>\n",
              "      <td>73</td>\n",
              "      <td>San Nicolas,Metro Manila</td>\n",
              "      <td>78</td>\n",
              "      <td>2656</td>\n",
              "      <td>198</td>\n",
              "      <td>4.68</td>\n",
              "      <td>0</td>\n",
              "      <td>0</td>\n",
              "    </tr>\n",
              "    <tr>\n",
              "      <th>2</th>\n",
              "      <td>2021061310377223</td>\n",
              "      <td>2021-06-13</td>\n",
              "      <td>10377223</td>\n",
              "      <td>R&amp;O RedOrange</td>\n",
              "      <td>September</td>\n",
              "      <td>27</td>\n",
              "      <td>2016</td>\n",
              "      <td>209</td>\n",
              "      <td>660417</td>\n",
              "      <td>08:32:07</td>\n",
              "      <td>90</td>\n",
              "      <td>Pasay City,Metro Manila</td>\n",
              "      <td>4647</td>\n",
              "      <td>1071829</td>\n",
              "      <td>18073</td>\n",
              "      <td>4.91</td>\n",
              "      <td>1</td>\n",
              "      <td>0</td>\n",
              "    </tr>\n",
              "  </tbody>\n",
              "</table>\n",
              "</div>\n",
              "      <button class=\"colab-df-convert\" onclick=\"convertToInteractive('df-c26b33f4-2751-47f2-bd22-69cb2dd1adf9')\"\n",
              "              title=\"Convert this dataframe to an interactive table.\"\n",
              "              style=\"display:none;\">\n",
              "        \n",
              "  <svg xmlns=\"http://www.w3.org/2000/svg\" height=\"24px\"viewBox=\"0 0 24 24\"\n",
              "       width=\"24px\">\n",
              "    <path d=\"M0 0h24v24H0V0z\" fill=\"none\"/>\n",
              "    <path d=\"M18.56 5.44l.94 2.06.94-2.06 2.06-.94-2.06-.94-.94-2.06-.94 2.06-2.06.94zm-11 1L8.5 8.5l.94-2.06 2.06-.94-2.06-.94L8.5 2.5l-.94 2.06-2.06.94zm10 10l.94 2.06.94-2.06 2.06-.94-2.06-.94-.94-2.06-.94 2.06-2.06.94z\"/><path d=\"M17.41 7.96l-1.37-1.37c-.4-.4-.92-.59-1.43-.59-.52 0-1.04.2-1.43.59L10.3 9.45l-7.72 7.72c-.78.78-.78 2.05 0 2.83L4 21.41c.39.39.9.59 1.41.59.51 0 1.02-.2 1.41-.59l7.78-7.78 2.81-2.81c.8-.78.8-2.07 0-2.86zM5.41 20L4 18.59l7.72-7.72 1.47 1.35L5.41 20z\"/>\n",
              "  </svg>\n",
              "      </button>\n",
              "      \n",
              "  <style>\n",
              "    .colab-df-container {\n",
              "      display:flex;\n",
              "      flex-wrap:wrap;\n",
              "      gap: 12px;\n",
              "    }\n",
              "\n",
              "    .colab-df-convert {\n",
              "      background-color: #E8F0FE;\n",
              "      border: none;\n",
              "      border-radius: 50%;\n",
              "      cursor: pointer;\n",
              "      display: none;\n",
              "      fill: #1967D2;\n",
              "      height: 32px;\n",
              "      padding: 0 0 0 0;\n",
              "      width: 32px;\n",
              "    }\n",
              "\n",
              "    .colab-df-convert:hover {\n",
              "      background-color: #E2EBFA;\n",
              "      box-shadow: 0px 1px 2px rgba(60, 64, 67, 0.3), 0px 1px 3px 1px rgba(60, 64, 67, 0.15);\n",
              "      fill: #174EA6;\n",
              "    }\n",
              "\n",
              "    [theme=dark] .colab-df-convert {\n",
              "      background-color: #3B4455;\n",
              "      fill: #D2E3FC;\n",
              "    }\n",
              "\n",
              "    [theme=dark] .colab-df-convert:hover {\n",
              "      background-color: #434B5C;\n",
              "      box-shadow: 0px 1px 3px 1px rgba(0, 0, 0, 0.15);\n",
              "      filter: drop-shadow(0px 1px 2px rgba(0, 0, 0, 0.3));\n",
              "      fill: #FFFFFF;\n",
              "    }\n",
              "  </style>\n",
              "\n",
              "      <script>\n",
              "        const buttonEl =\n",
              "          document.querySelector('#df-c26b33f4-2751-47f2-bd22-69cb2dd1adf9 button.colab-df-convert');\n",
              "        buttonEl.style.display =\n",
              "          google.colab.kernel.accessAllowed ? 'block' : 'none';\n",
              "\n",
              "        async function convertToInteractive(key) {\n",
              "          const element = document.querySelector('#df-c26b33f4-2751-47f2-bd22-69cb2dd1adf9');\n",
              "          const dataTable =\n",
              "            await google.colab.kernel.invokeFunction('convertToInteractive',\n",
              "                                                     [key], {});\n",
              "          if (!dataTable) return;\n",
              "\n",
              "          const docLinkHtml = 'Like what you see? Visit the ' +\n",
              "            '<a target=\"_blank\" href=https://colab.research.google.com/notebooks/data_table.ipynb>data table notebook</a>'\n",
              "            + ' to learn more about interactive tables.';\n",
              "          element.innerHTML = '';\n",
              "          dataTable['output_type'] = 'display_data';\n",
              "          await google.colab.output.renderOutput(dataTable, element);\n",
              "          const docLink = document.createElement('div');\n",
              "          docLink.innerHTML = docLinkHtml;\n",
              "          element.appendChild(docLink);\n",
              "        }\n",
              "      </script>\n",
              "    </div>\n",
              "  </div>\n",
              "  "
            ]
          },
          "metadata": {},
          "execution_count": 3
        }
      ]
    },
    {
      "cell_type": "code",
      "source": [
        "df['Hour']=pd.to_datetime(df['response_time'],format=' %H:%M:%S').dt.hour\n",
        "df['Minute']=pd.to_datetime(df['response_time'],format=' %H:%M:%S').dt.minute\n",
        "df['Second']=pd.to_datetime(df['response_time'],format=' %H:%M:%S').dt.second\n",
        "df.head()"
      ],
      "metadata": {
        "colab": {
          "base_uri": "https://localhost:8080/",
          "height": 421
        },
        "id": "2spyK9Q9TSzr",
        "outputId": "61a357e7-1055-4616-f052-911e81fb3bad"
      },
      "execution_count": null,
      "outputs": [
        {
          "output_type": "execute_result",
          "data": {
            "text/plain": [
              "             pk_shop date_collected     shopid                  name  \\\n",
              "0  20210613254711738     2021-06-13  254711738          hello.may.ph   \n",
              "1  20210613314198143     2021-06-13  314198143       love.women.shop   \n",
              "2   2021061310377223     2021-06-13   10377223         R&O RedOrange   \n",
              "3   2021061321407329     2021-06-13   21407329           patriciacai   \n",
              "4   2021061311187885     2021-06-13   11187885  Little Market Manila   \n",
              "\n",
              "  join_month  join_day  join_year  item_count  follower_count response_time  \\\n",
              "0      April        27       2020         446           17487      10:13:55   \n",
              "1  September        25       2020         263            8574      10:43:05   \n",
              "2  September        27       2016         209          660417      08:32:07   \n",
              "3      April        30       2017         165           18787      09:10:38   \n",
              "4    October        18       2016         467           67371      11:40:59   \n",
              "\n",
              "   ...               shop_location rating_bad  rating_good  rating_normal  \\\n",
              "0  ...                         NaN        181        17510            729   \n",
              "1  ...    San Nicolas,Metro Manila         78         2656            198   \n",
              "2  ...     Pasay City,Metro Manila       4647      1071829          18073   \n",
              "3  ...        Binondo,Metro Manila         44        18959            215   \n",
              "4  ...  Caloocan City,Metro Manila        680        39252           2383   \n",
              "\n",
              "   rating_star  is_shopee_verified  is_official_shop  Hour  Minute  Second  \n",
              "0         4.81                   1                 0    10      13      55  \n",
              "1         4.68                   0                 0    10      43       5  \n",
              "2         4.91                   1                 0     8      32       7  \n",
              "3         4.94                   1                 0     9      10      38  \n",
              "4         4.73                   1                 0    11      40      59  \n",
              "\n",
              "[5 rows x 21 columns]"
            ],
            "text/html": [
              "\n",
              "  <div id=\"df-d9d0f306-97ce-4555-b619-60c081d06979\">\n",
              "    <div class=\"colab-df-container\">\n",
              "      <div>\n",
              "<style scoped>\n",
              "    .dataframe tbody tr th:only-of-type {\n",
              "        vertical-align: middle;\n",
              "    }\n",
              "\n",
              "    .dataframe tbody tr th {\n",
              "        vertical-align: top;\n",
              "    }\n",
              "\n",
              "    .dataframe thead th {\n",
              "        text-align: right;\n",
              "    }\n",
              "</style>\n",
              "<table border=\"1\" class=\"dataframe\">\n",
              "  <thead>\n",
              "    <tr style=\"text-align: right;\">\n",
              "      <th></th>\n",
              "      <th>pk_shop</th>\n",
              "      <th>date_collected</th>\n",
              "      <th>shopid</th>\n",
              "      <th>name</th>\n",
              "      <th>join_month</th>\n",
              "      <th>join_day</th>\n",
              "      <th>join_year</th>\n",
              "      <th>item_count</th>\n",
              "      <th>follower_count</th>\n",
              "      <th>response_time</th>\n",
              "      <th>...</th>\n",
              "      <th>shop_location</th>\n",
              "      <th>rating_bad</th>\n",
              "      <th>rating_good</th>\n",
              "      <th>rating_normal</th>\n",
              "      <th>rating_star</th>\n",
              "      <th>is_shopee_verified</th>\n",
              "      <th>is_official_shop</th>\n",
              "      <th>Hour</th>\n",
              "      <th>Minute</th>\n",
              "      <th>Second</th>\n",
              "    </tr>\n",
              "  </thead>\n",
              "  <tbody>\n",
              "    <tr>\n",
              "      <th>0</th>\n",
              "      <td>20210613254711738</td>\n",
              "      <td>2021-06-13</td>\n",
              "      <td>254711738</td>\n",
              "      <td>hello.may.ph</td>\n",
              "      <td>April</td>\n",
              "      <td>27</td>\n",
              "      <td>2020</td>\n",
              "      <td>446</td>\n",
              "      <td>17487</td>\n",
              "      <td>10:13:55</td>\n",
              "      <td>...</td>\n",
              "      <td>NaN</td>\n",
              "      <td>181</td>\n",
              "      <td>17510</td>\n",
              "      <td>729</td>\n",
              "      <td>4.81</td>\n",
              "      <td>1</td>\n",
              "      <td>0</td>\n",
              "      <td>10</td>\n",
              "      <td>13</td>\n",
              "      <td>55</td>\n",
              "    </tr>\n",
              "    <tr>\n",
              "      <th>1</th>\n",
              "      <td>20210613314198143</td>\n",
              "      <td>2021-06-13</td>\n",
              "      <td>314198143</td>\n",
              "      <td>love.women.shop</td>\n",
              "      <td>September</td>\n",
              "      <td>25</td>\n",
              "      <td>2020</td>\n",
              "      <td>263</td>\n",
              "      <td>8574</td>\n",
              "      <td>10:43:05</td>\n",
              "      <td>...</td>\n",
              "      <td>San Nicolas,Metro Manila</td>\n",
              "      <td>78</td>\n",
              "      <td>2656</td>\n",
              "      <td>198</td>\n",
              "      <td>4.68</td>\n",
              "      <td>0</td>\n",
              "      <td>0</td>\n",
              "      <td>10</td>\n",
              "      <td>43</td>\n",
              "      <td>5</td>\n",
              "    </tr>\n",
              "    <tr>\n",
              "      <th>2</th>\n",
              "      <td>2021061310377223</td>\n",
              "      <td>2021-06-13</td>\n",
              "      <td>10377223</td>\n",
              "      <td>R&amp;O RedOrange</td>\n",
              "      <td>September</td>\n",
              "      <td>27</td>\n",
              "      <td>2016</td>\n",
              "      <td>209</td>\n",
              "      <td>660417</td>\n",
              "      <td>08:32:07</td>\n",
              "      <td>...</td>\n",
              "      <td>Pasay City,Metro Manila</td>\n",
              "      <td>4647</td>\n",
              "      <td>1071829</td>\n",
              "      <td>18073</td>\n",
              "      <td>4.91</td>\n",
              "      <td>1</td>\n",
              "      <td>0</td>\n",
              "      <td>8</td>\n",
              "      <td>32</td>\n",
              "      <td>7</td>\n",
              "    </tr>\n",
              "    <tr>\n",
              "      <th>3</th>\n",
              "      <td>2021061321407329</td>\n",
              "      <td>2021-06-13</td>\n",
              "      <td>21407329</td>\n",
              "      <td>patriciacai</td>\n",
              "      <td>April</td>\n",
              "      <td>30</td>\n",
              "      <td>2017</td>\n",
              "      <td>165</td>\n",
              "      <td>18787</td>\n",
              "      <td>09:10:38</td>\n",
              "      <td>...</td>\n",
              "      <td>Binondo,Metro Manila</td>\n",
              "      <td>44</td>\n",
              "      <td>18959</td>\n",
              "      <td>215</td>\n",
              "      <td>4.94</td>\n",
              "      <td>1</td>\n",
              "      <td>0</td>\n",
              "      <td>9</td>\n",
              "      <td>10</td>\n",
              "      <td>38</td>\n",
              "    </tr>\n",
              "    <tr>\n",
              "      <th>4</th>\n",
              "      <td>2021061311187885</td>\n",
              "      <td>2021-06-13</td>\n",
              "      <td>11187885</td>\n",
              "      <td>Little Market Manila</td>\n",
              "      <td>October</td>\n",
              "      <td>18</td>\n",
              "      <td>2016</td>\n",
              "      <td>467</td>\n",
              "      <td>67371</td>\n",
              "      <td>11:40:59</td>\n",
              "      <td>...</td>\n",
              "      <td>Caloocan City,Metro Manila</td>\n",
              "      <td>680</td>\n",
              "      <td>39252</td>\n",
              "      <td>2383</td>\n",
              "      <td>4.73</td>\n",
              "      <td>1</td>\n",
              "      <td>0</td>\n",
              "      <td>11</td>\n",
              "      <td>40</td>\n",
              "      <td>59</td>\n",
              "    </tr>\n",
              "  </tbody>\n",
              "</table>\n",
              "<p>5 rows × 21 columns</p>\n",
              "</div>\n",
              "      <button class=\"colab-df-convert\" onclick=\"convertToInteractive('df-d9d0f306-97ce-4555-b619-60c081d06979')\"\n",
              "              title=\"Convert this dataframe to an interactive table.\"\n",
              "              style=\"display:none;\">\n",
              "        \n",
              "  <svg xmlns=\"http://www.w3.org/2000/svg\" height=\"24px\"viewBox=\"0 0 24 24\"\n",
              "       width=\"24px\">\n",
              "    <path d=\"M0 0h24v24H0V0z\" fill=\"none\"/>\n",
              "    <path d=\"M18.56 5.44l.94 2.06.94-2.06 2.06-.94-2.06-.94-.94-2.06-.94 2.06-2.06.94zm-11 1L8.5 8.5l.94-2.06 2.06-.94-2.06-.94L8.5 2.5l-.94 2.06-2.06.94zm10 10l.94 2.06.94-2.06 2.06-.94-2.06-.94-.94-2.06-.94 2.06-2.06.94z\"/><path d=\"M17.41 7.96l-1.37-1.37c-.4-.4-.92-.59-1.43-.59-.52 0-1.04.2-1.43.59L10.3 9.45l-7.72 7.72c-.78.78-.78 2.05 0 2.83L4 21.41c.39.39.9.59 1.41.59.51 0 1.02-.2 1.41-.59l7.78-7.78 2.81-2.81c.8-.78.8-2.07 0-2.86zM5.41 20L4 18.59l7.72-7.72 1.47 1.35L5.41 20z\"/>\n",
              "  </svg>\n",
              "      </button>\n",
              "      \n",
              "  <style>\n",
              "    .colab-df-container {\n",
              "      display:flex;\n",
              "      flex-wrap:wrap;\n",
              "      gap: 12px;\n",
              "    }\n",
              "\n",
              "    .colab-df-convert {\n",
              "      background-color: #E8F0FE;\n",
              "      border: none;\n",
              "      border-radius: 50%;\n",
              "      cursor: pointer;\n",
              "      display: none;\n",
              "      fill: #1967D2;\n",
              "      height: 32px;\n",
              "      padding: 0 0 0 0;\n",
              "      width: 32px;\n",
              "    }\n",
              "\n",
              "    .colab-df-convert:hover {\n",
              "      background-color: #E2EBFA;\n",
              "      box-shadow: 0px 1px 2px rgba(60, 64, 67, 0.3), 0px 1px 3px 1px rgba(60, 64, 67, 0.15);\n",
              "      fill: #174EA6;\n",
              "    }\n",
              "\n",
              "    [theme=dark] .colab-df-convert {\n",
              "      background-color: #3B4455;\n",
              "      fill: #D2E3FC;\n",
              "    }\n",
              "\n",
              "    [theme=dark] .colab-df-convert:hover {\n",
              "      background-color: #434B5C;\n",
              "      box-shadow: 0px 1px 3px 1px rgba(0, 0, 0, 0.15);\n",
              "      filter: drop-shadow(0px 1px 2px rgba(0, 0, 0, 0.3));\n",
              "      fill: #FFFFFF;\n",
              "    }\n",
              "  </style>\n",
              "\n",
              "      <script>\n",
              "        const buttonEl =\n",
              "          document.querySelector('#df-d9d0f306-97ce-4555-b619-60c081d06979 button.colab-df-convert');\n",
              "        buttonEl.style.display =\n",
              "          google.colab.kernel.accessAllowed ? 'block' : 'none';\n",
              "\n",
              "        async function convertToInteractive(key) {\n",
              "          const element = document.querySelector('#df-d9d0f306-97ce-4555-b619-60c081d06979');\n",
              "          const dataTable =\n",
              "            await google.colab.kernel.invokeFunction('convertToInteractive',\n",
              "                                                     [key], {});\n",
              "          if (!dataTable) return;\n",
              "\n",
              "          const docLinkHtml = 'Like what you see? Visit the ' +\n",
              "            '<a target=\"_blank\" href=https://colab.research.google.com/notebooks/data_table.ipynb>data table notebook</a>'\n",
              "            + ' to learn more about interactive tables.';\n",
              "          element.innerHTML = '';\n",
              "          dataTable['output_type'] = 'display_data';\n",
              "          await google.colab.output.renderOutput(dataTable, element);\n",
              "          const docLink = document.createElement('div');\n",
              "          docLink.innerHTML = docLinkHtml;\n",
              "          element.appendChild(docLink);\n",
              "        }\n",
              "      </script>\n",
              "    </div>\n",
              "  </div>\n",
              "  "
            ]
          },
          "metadata": {},
          "execution_count": 4
        }
      ]
    },
    {
      "cell_type": "code",
      "source": [
        "sns.countplot(x = 'join_year', data = df)"
      ],
      "metadata": {
        "colab": {
          "base_uri": "https://localhost:8080/",
          "height": 298
        },
        "id": "8P7zkVzBTbrP",
        "outputId": "651ca4bb-2d77-4163-95a3-0d7fb8c8cfb5"
      },
      "execution_count": null,
      "outputs": [
        {
          "output_type": "execute_result",
          "data": {
            "text/plain": [
              "<matplotlib.axes._subplots.AxesSubplot at 0x7fea51532290>"
            ]
          },
          "metadata": {},
          "execution_count": 5
        },
        {
          "output_type": "display_data",
          "data": {
            "text/plain": [
              "<Figure size 432x288 with 1 Axes>"
            ],
            "image/png": "[encoded data removed]"
          },
          "metadata": {
            "needs_background": "light"
          }
        }
      ]
    },
    {
      "cell_type": "code",
      "source": [
        "sns.lmplot(x='response_rate', y='rating_good', data=df)"
      ],
      "metadata": {
        "colab": {
          "base_uri": "https://localhost:8080/",
          "height": 387
        },
        "id": "f6FKSQMsTz1D",
        "outputId": "5a9fff1a-3f55-433f-faf9-64cb0295907c"
      },
      "execution_count": null,
      "outputs": [
        {
          "output_type": "execute_result",
          "data": {
            "text/plain": [
              "<seaborn.axisgrid.FacetGrid at 0x7fea528c48d0>"
            ]
          },
          "metadata": {},
          "execution_count": 6
        },
        {
          "output_type": "display_data",
          "data": {
            "text/plain": [
              "<Figure size 360x360 with 1 Axes>"
            ],
            "image/png": "[encoded data removed]"
          },
          "metadata": {
            "needs_background": "light"
          }
        }
      ]
    },
    {
      "cell_type": "code",
      "source": [
        "sns.lmplot(x='Hour', y='rating_bad', data=df)"
      ],
      "metadata": {
        "colab": {
          "base_uri": "https://localhost:8080/",
          "height": 387
        },
        "id": "WMCChvpcUJxZ",
        "outputId": "6803b1ff-60b4-4b4c-9010-8b16031247a6"
      },
      "execution_count": null,
      "outputs": [
        {
          "output_type": "execute_result",
          "data": {
            "text/plain": [
              "<seaborn.axisgrid.FacetGrid at 0x7fea4e75f390>"
            ]
          },
          "metadata": {},
          "execution_count": 7
        },
        {
          "output_type": "display_data",
          "data": {
            "text/plain": [
              "<Figure size 360x360 with 1 Axes>"
            ],
            "image/png": "[encoded data removed]"
          },
          "metadata": {
            "needs_background": "light"
          }
        }
      ]
    },
    {
      "cell_type": "code",
      "source": [
        "sns.distplot(df['rating_star'], bins=200)"
      ],
      "metadata": {
        "colab": {
          "base_uri": "https://localhost:8080/",
          "height": 355
        },
        "id": "CY0Se107UwIa",
        "outputId": "f6592d23-1e00-4ffc-f88c-4c5937e5f118"
      },
      "execution_count": null,
      "outputs": [
        {
          "output_type": "stream",
          "name": "stderr",
          "text": [
            "/usr/local/lib/python3.7/dist-packages/seaborn/distributions.py:2619: FutureWarning: `distplot` is a deprecated function and will be removed in a future version. Please adapt your code to use either `displot` (a figure-level function with similar flexibility) or `histplot` (an axes-level function for histograms).\n",
            "  warnings.warn(msg, FutureWarning)\n"
          ]
        },
        {
          "output_type": "execute_result",
          "data": {
            "text/plain": [
              "<matplotlib.axes._subplots.AxesSubplot at 0x7fea4e69a090>"
            ]
          },
          "metadata": {},
          "execution_count": 8
        },
        {
          "output_type": "display_data",
          "data": {
            "text/plain": [
              "<Figure size 432x288 with 1 Axes>"
            ],
            "image/png": "[encoded data removed]"
          },
          "metadata": {
            "needs_background": "light"
          }
        }
      ]
    },
    {
      "cell_type": "code",
      "source": [
        "sns.countplot(x = 'is_official_shop', data = df)"
      ],
      "metadata": {
        "colab": {
          "base_uri": "https://localhost:8080/",
          "height": 298
        },
        "id": "uez7kTxUVUIb",
        "outputId": "ea9639ac-d896-435a-b838-96b89280094a"
      },
      "execution_count": null,
      "outputs": [
        {
          "output_type": "execute_result",
          "data": {
            "text/plain": [
              "<matplotlib.axes._subplots.AxesSubplot at 0x7fea4e3fde10>"
            ]
          },
          "metadata": {},
          "execution_count": 9
        },
        {
          "output_type": "display_data",
          "data": {
            "text/plain": [
              "<Figure size 432x288 with 1 Axes>"
            ],
            "image/png": "[encoded data removed]"
          },
          "metadata": {
            "needs_background": "light"
          }
        }
      ]
    },
    {
      "cell_type": "code",
      "source": [
        "sns.countplot(x = 'is_shopee_verified', data = df)"
      ],
      "metadata": {
        "colab": {
          "base_uri": "https://localhost:8080/",
          "height": 298
        },
        "id": "f3Vhr5kZVcPS",
        "outputId": "7c504213-78bf-48cc-80b2-96a8a6ae8126"
      },
      "execution_count": null,
      "outputs": [
        {
          "output_type": "execute_result",
          "data": {
            "text/plain": [
              "<matplotlib.axes._subplots.AxesSubplot at 0x7fea4e348690>"
            ]
          },
          "metadata": {},
          "execution_count": 10
        },
        {
          "output_type": "display_data",
          "data": {
            "text/plain": [
              "<Figure size 432x288 with 1 Axes>"
            ],
            "image/png": "[encoded data removed]"
          },
          "metadata": {
            "needs_background": "light"
          }
        }
      ]
    }
  ]
}